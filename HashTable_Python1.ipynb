{
  "nbformat": 4,
  "nbformat_minor": 0,
  "metadata": {
    "colab": {
      "name": "HashTable_Python1.ipynb",
      "provenance": []
    },
    "kernelspec": {
      "name": "python3",
      "display_name": "Python 3"
    },
    "language_info": {
      "name": "python"
    }
  },
  "cells": [
    {
      "cell_type": "code",
      "metadata": {
        "id": "VTfq2ZDcdU3u"
      },
      "source": [
        "stock_price=[]\n",
        "with open(\"/content/stock.csv\",\"r\") as f:\n",
        "  for line in f:\n",
        "    tokens=line.split(',')\n",
        "    day=tokens[0]\n",
        "    price=float(tokens[1])\n",
        "    stock_price.append([day,price])"
      ],
      "execution_count": 15,
      "outputs": []
    },
    {
      "cell_type": "code",
      "metadata": {
        "colab": {
          "base_uri": "https://localhost:8080/"
        },
        "id": "dofq4IBmfYxx",
        "outputId": "1118e19c-f074-4959-e216-c5178abf4cc5"
      },
      "source": [
        "stock_price"
      ],
      "execution_count": 16,
      "outputs": [
        {
          "output_type": "execute_result",
          "data": {
            "text/plain": [
              "[['6-Mar', 130.0], ['3-Nov', 56.0], ['7-Mar', 120.0]]"
            ]
          },
          "metadata": {},
          "execution_count": 16
        }
      ]
    },
    {
      "cell_type": "code",
      "metadata": {
        "colab": {
          "base_uri": "https://localhost:8080/"
        },
        "id": "lrT7fAEofmaj",
        "outputId": "d94a1eea-2175-4719-f5ff-46f764f5f554"
      },
      "source": [
        "stock_price[0]"
      ],
      "execution_count": 17,
      "outputs": [
        {
          "output_type": "execute_result",
          "data": {
            "text/plain": [
              "['6-Mar', 130.0]"
            ]
          },
          "metadata": {},
          "execution_count": 17
        }
      ]
    },
    {
      "cell_type": "code",
      "metadata": {
        "colab": {
          "base_uri": "https://localhost:8080/"
        },
        "id": "UoqaHektfrPi",
        "outputId": "192b71e4-bd77-4cc5-9056-836f9ceb8986"
      },
      "source": [
        "for element in stock_price:\n",
        "  if element[0]=='6-Mar':\n",
        "    print(element[1])\n",
        "#Complexity is O(n)"
      ],
      "execution_count": 18,
      "outputs": [
        {
          "output_type": "stream",
          "name": "stdout",
          "text": [
            "130.0\n"
          ]
        }
      ]
    },
    {
      "cell_type": "code",
      "metadata": {
        "id": "Mkg9bGwEgOuF"
      },
      "source": [
        "# Using Python Dictionary\n",
        "stock_prices={}\n",
        "with open(\"/content/stock.csv\",\"r\") as f:\n",
        "  for line in f:\n",
        "    tokens=line.split(',')\n",
        "    day=tokens[0]\n",
        "    price=float(tokens[1])\n",
        "    stock_prices[day]=price\n"
      ],
      "execution_count": 20,
      "outputs": []
    },
    {
      "cell_type": "code",
      "metadata": {
        "colab": {
          "base_uri": "https://localhost:8080/"
        },
        "id": "rWvGXFL2hPMJ",
        "outputId": "6736d9d1-e0ba-48ac-c2af-df97a4772ab6"
      },
      "source": [
        "stock_prices"
      ],
      "execution_count": 21,
      "outputs": [
        {
          "output_type": "execute_result",
          "data": {
            "text/plain": [
              "{'3-Nov': 56.0, '6-Mar': 130.0, '7-Mar': 120.0}"
            ]
          },
          "metadata": {},
          "execution_count": 21
        }
      ]
    },
    {
      "cell_type": "code",
      "metadata": {
        "colab": {
          "base_uri": "https://localhost:8080/"
        },
        "id": "3bZrHXTRhTj1",
        "outputId": "29423fc2-05a1-4bc6-e922-acff9b3249ae"
      },
      "source": [
        "stock_prices['3-Nov']"
      ],
      "execution_count": 22,
      "outputs": [
        {
          "output_type": "execute_result",
          "data": {
            "text/plain": [
              "56.0"
            ]
          },
          "metadata": {},
          "execution_count": 22
        }
      ]
    },
    {
      "cell_type": "code",
      "metadata": {
        "id": "RhR3UQi3X1RU"
      },
      "source": [
        "class HashTable:\n",
        "  def __init__(self):\n",
        "    self.MAX=100\n",
        "    self.arr=[None for i in range(self.MAX)]\n",
        "  def get_hash(self, key):\n",
        "    h=0\n",
        "    for ch in key:\n",
        "      h += ord(ch)\n",
        "    return h % self.MAX\n",
        "  def __setitem__(self, key, value):\n",
        "    h=self.get_hash(key)\n",
        "    self.arr[h]=value\n",
        "  def __getitem__(self,key):\n",
        "    h=self.get_hash(key)\n",
        "    return self.arr[h]\n",
        "  def __delitem__(self, key):\n",
        "    h=self.get_hash(key)\n",
        "    self.arr[h]=None"
      ],
      "execution_count": 13,
      "outputs": []
    },
    {
      "cell_type": "code",
      "metadata": {
        "colab": {
          "base_uri": "https://localhost:8080/"
        },
        "id": "Ts-LbLAZYujA",
        "outputId": "c6157614-6cac-4c69-dff4-8145aae1c36f"
      },
      "source": [
        "t=HashTable()\n",
        "t.get_hash('march 6')\n",
        "t[\"march 6\"]=130\n",
        "t.arr"
      ],
      "execution_count": 11,
      "outputs": [
        {
          "output_type": "execute_result",
          "data": {
            "text/plain": [
              "[None,\n",
              " None,\n",
              " None,\n",
              " None,\n",
              " None,\n",
              " None,\n",
              " None,\n",
              " None,\n",
              " None,\n",
              " 130,\n",
              " None,\n",
              " None,\n",
              " None,\n",
              " None,\n",
              " None,\n",
              " None,\n",
              " None,\n",
              " None,\n",
              " None,\n",
              " None,\n",
              " None,\n",
              " None,\n",
              " None,\n",
              " None,\n",
              " None,\n",
              " None,\n",
              " None,\n",
              " None,\n",
              " None,\n",
              " None,\n",
              " None,\n",
              " None,\n",
              " None,\n",
              " None,\n",
              " None,\n",
              " None,\n",
              " None,\n",
              " None,\n",
              " None,\n",
              " None,\n",
              " None,\n",
              " None,\n",
              " None,\n",
              " None,\n",
              " None,\n",
              " None,\n",
              " None,\n",
              " None,\n",
              " None,\n",
              " None,\n",
              " None,\n",
              " None,\n",
              " None,\n",
              " None,\n",
              " None,\n",
              " None,\n",
              " None,\n",
              " None,\n",
              " None,\n",
              " None,\n",
              " None,\n",
              " None,\n",
              " None,\n",
              " None,\n",
              " None,\n",
              " None,\n",
              " None,\n",
              " None,\n",
              " None,\n",
              " None,\n",
              " None,\n",
              " None,\n",
              " None,\n",
              " None,\n",
              " None,\n",
              " None,\n",
              " None,\n",
              " None,\n",
              " None,\n",
              " None,\n",
              " None,\n",
              " None,\n",
              " None,\n",
              " None,\n",
              " None,\n",
              " None,\n",
              " None,\n",
              " None,\n",
              " None,\n",
              " None,\n",
              " None,\n",
              " None,\n",
              " None,\n",
              " None,\n",
              " None,\n",
              " None,\n",
              " None,\n",
              " None,\n",
              " None,\n",
              " None]"
            ]
          },
          "metadata": {},
          "execution_count": 11
        }
      ]
    },
    {
      "cell_type": "code",
      "metadata": {
        "colab": {
          "base_uri": "https://localhost:8080/"
        },
        "id": "ZYRtI9Qfa5Dt",
        "outputId": "17f768da-28a7-480b-bc7d-886acf9ff3c7"
      },
      "source": [
        "t[\"march 6\"]"
      ],
      "execution_count": 12,
      "outputs": [
        {
          "output_type": "execute_result",
          "data": {
            "text/plain": [
              "130"
            ]
          },
          "metadata": {},
          "execution_count": 12
        }
      ]
    }
  ]
}