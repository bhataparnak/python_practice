{
  "nbformat": 4,
  "nbformat_minor": 0,
  "metadata": {
    "colab": {
      "name": "word_frequency_inTextfile.ipynb",
      "provenance": []
    },
    "kernelspec": {
      "name": "python3",
      "display_name": "Python 3"
    },
    "language_info": {
      "name": "python"
    }
  },
  "cells": [
    {
      "cell_type": "code",
      "metadata": {
        "colab": {
          "base_uri": "https://localhost:8080/"
        },
        "id": "P8ZyOA72LATB",
        "outputId": "6f3ea64b-654c-438d-bd65-ff1459f6e45a"
      },
      "source": [
        "with open(\"/content/poem.txt\",\"r\") as f:\n",
        "  for line in f:\n",
        "    print(line)"
      ],
      "execution_count": 57,
      "outputs": [
        {
          "output_type": "stream",
          "name": "stdout",
          "text": [
            "Two roads diverged in a yellow wood,\n",
            "\n",
            "And sorry I could not travel both\n",
            "\n",
            "And be one traveler, long I stood\n",
            "\n",
            "And looked down one as far as I could\n",
            "\n",
            "To where it bent in the undergrowth;\n",
            "\n",
            "\n",
            "\n",
            "Then took the other, as just as fair,\n",
            "\n",
            "And having perhaps the better claim,\n",
            "\n",
            "Because it was grassy and wanted wear;\n",
            "\n",
            "Though as for that the passing there\n",
            "\n",
            "Had worn them really about the same,\n",
            "\n",
            "\n",
            "\n",
            "And both that morning equally lay\n",
            "\n",
            "In leaves no step had trodden black.\n",
            "\n",
            "Oh, I kept the first for another day!\n",
            "\n",
            "Yet knowing how way leads on to way,\n",
            "\n",
            "I doubted if I should ever come back.\n",
            "\n",
            "\n",
            "\n",
            "I shall be telling this with a sigh\n",
            "\n",
            "Somewhere ages and ages hence:\n",
            "\n",
            "Two roads diverged in a wood, and I—\n",
            "\n",
            "I took the one less traveled by,\n",
            "\n",
            "And that has made all the difference.\n"
          ]
        }
      ]
    },
    {
      "cell_type": "code",
      "metadata": {
        "id": "9vaoDkHyLqCa"
      },
      "source": [
        "word_freq={}\n",
        "with open(\"/content/poem.txt\",\"r\") as f:\n",
        "  for line in f:\n",
        "    tokens=line.split(' ')\n",
        "    for token in tokens:\n",
        "      token=token.replace('\\n','')\n",
        "      if token in word_freq:\n",
        "        word_freq[token] +=1\n",
        "      else:\n",
        "        word_freq[token]=1\n"
      ],
      "execution_count": 63,
      "outputs": []
    },
    {
      "cell_type": "code",
      "metadata": {
        "colab": {
          "base_uri": "https://localhost:8080/"
        },
        "id": "PgKLSHq-Mhps",
        "outputId": "512b9979-6e01-4b25-e33a-4e3023048518"
      },
      "source": [
        "word_freq"
      ],
      "execution_count": 64,
      "outputs": [
        {
          "output_type": "execute_result",
          "data": {
            "text/plain": [
              "{'': 3,\n",
              " 'And': 6,\n",
              " 'Because': 1,\n",
              " 'Had': 1,\n",
              " 'I': 8,\n",
              " 'In': 1,\n",
              " 'I—': 1,\n",
              " 'Oh,': 1,\n",
              " 'Somewhere': 1,\n",
              " 'Then': 1,\n",
              " 'Though': 1,\n",
              " 'To': 1,\n",
              " 'Two': 2,\n",
              " 'Yet': 1,\n",
              " 'a': 3,\n",
              " 'about': 1,\n",
              " 'ages': 2,\n",
              " 'all': 1,\n",
              " 'and': 3,\n",
              " 'another': 1,\n",
              " 'as': 5,\n",
              " 'back.': 1,\n",
              " 'be': 2,\n",
              " 'bent': 1,\n",
              " 'better': 1,\n",
              " 'black.': 1,\n",
              " 'both': 2,\n",
              " 'by,': 1,\n",
              " 'claim,': 1,\n",
              " 'come': 1,\n",
              " 'could': 2,\n",
              " 'day!': 1,\n",
              " 'difference.': 1,\n",
              " 'diverged': 2,\n",
              " 'doubted': 1,\n",
              " 'down': 1,\n",
              " 'equally': 1,\n",
              " 'ever': 1,\n",
              " 'fair,': 1,\n",
              " 'far': 1,\n",
              " 'first': 1,\n",
              " 'for': 2,\n",
              " 'grassy': 1,\n",
              " 'had': 1,\n",
              " 'has': 1,\n",
              " 'having': 1,\n",
              " 'hence:': 1,\n",
              " 'how': 1,\n",
              " 'if': 1,\n",
              " 'in': 3,\n",
              " 'it': 2,\n",
              " 'just': 1,\n",
              " 'kept': 1,\n",
              " 'knowing': 1,\n",
              " 'lay': 1,\n",
              " 'leads': 1,\n",
              " 'leaves': 1,\n",
              " 'less': 1,\n",
              " 'long': 1,\n",
              " 'looked': 1,\n",
              " 'made': 1,\n",
              " 'morning': 1,\n",
              " 'no': 1,\n",
              " 'not': 1,\n",
              " 'on': 1,\n",
              " 'one': 3,\n",
              " 'other,': 1,\n",
              " 'passing': 1,\n",
              " 'perhaps': 1,\n",
              " 'really': 1,\n",
              " 'roads': 2,\n",
              " 'same,': 1,\n",
              " 'shall': 1,\n",
              " 'should': 1,\n",
              " 'sigh': 1,\n",
              " 'sorry': 1,\n",
              " 'step': 1,\n",
              " 'stood': 1,\n",
              " 'telling': 1,\n",
              " 'that': 3,\n",
              " 'the': 8,\n",
              " 'them': 1,\n",
              " 'there': 1,\n",
              " 'this': 1,\n",
              " 'to': 1,\n",
              " 'took': 2,\n",
              " 'travel': 1,\n",
              " 'traveled': 1,\n",
              " 'traveler,': 1,\n",
              " 'trodden': 1,\n",
              " 'undergrowth;': 1,\n",
              " 'wanted': 1,\n",
              " 'was': 1,\n",
              " 'way': 1,\n",
              " 'way,': 1,\n",
              " 'wear;': 1,\n",
              " 'where': 1,\n",
              " 'with': 1,\n",
              " 'wood,': 2,\n",
              " 'worn': 1,\n",
              " 'yellow': 1}"
            ]
          },
          "metadata": {},
          "execution_count": 64
        }
      ]
    }
  ]
}